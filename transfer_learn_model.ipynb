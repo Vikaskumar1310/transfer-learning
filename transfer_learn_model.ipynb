{
 "cells": [
  {
   "cell_type": "code",
   "execution_count": 1,
   "metadata": {},
   "outputs": [
    {
     "name": "stderr",
     "output_type": "stream",
     "text": [
      "Using TensorFlow backend.\n"
     ]
    }
   ],
   "source": [
    "from keras.applications import VGG16"
   ]
  },
  {
   "cell_type": "code",
   "execution_count": 2,
   "metadata": {},
   "outputs": [],
   "source": [
    "#downloading VGG16 weight\n",
    "vggmodel = VGG16(weights = 'imagenet', include_top = False, input_shape = (224, 244, 3) )"
   ]
  },
  {
   "cell_type": "code",
   "execution_count": 3,
   "metadata": {},
   "outputs": [],
   "source": [
    "#freezing all layer\n",
    "for layer in vggmodel.layers:\n",
    "    layer.trainable = False"
   ]
  },
  {
   "cell_type": "code",
   "execution_count": 4,
   "metadata": {},
   "outputs": [],
   "source": [
    "# # creating Fully connected layers\n",
    "def FClayer(model):\n",
    "    newmodel = model.output\n",
    "    newmodel = Flatten()(newmodel)\n",
    "    newmodel = Dense(units = 256, activation = 'relu')(newmodel)\n",
    "    newmodel = Dense(units = 128, activation = 'relu')(newmodel)\n",
    "    newmodel = Dense(units = 32, activation = 'relu')(newmodel)\n",
    "    newmodel = Dense(units = 3, activation = 'softmax')(newmodel)\n",
    "    return newmodel\n"
   ]
  },
  {
   "cell_type": "code",
   "execution_count": 5,
   "metadata": {
    "scrolled": true
   },
   "outputs": [
    {
     "name": "stdout",
     "output_type": "stream",
     "text": [
      "Model: \"model_1\"\n",
      "_________________________________________________________________\n",
      "Layer (type)                 Output Shape              Param #   \n",
      "=================================================================\n",
      "input_1 (InputLayer)         (None, 224, 244, 3)       0         \n",
      "_________________________________________________________________\n",
      "block1_conv1 (Conv2D)        (None, 224, 244, 64)      1792      \n",
      "_________________________________________________________________\n",
      "block1_conv2 (Conv2D)        (None, 224, 244, 64)      36928     \n",
      "_________________________________________________________________\n",
      "block1_pool (MaxPooling2D)   (None, 112, 122, 64)      0         \n",
      "_________________________________________________________________\n",
      "block2_conv1 (Conv2D)        (None, 112, 122, 128)     73856     \n",
      "_________________________________________________________________\n",
      "block2_conv2 (Conv2D)        (None, 112, 122, 128)     147584    \n",
      "_________________________________________________________________\n",
      "block2_pool (MaxPooling2D)   (None, 56, 61, 128)       0         \n",
      "_________________________________________________________________\n",
      "block3_conv1 (Conv2D)        (None, 56, 61, 256)       295168    \n",
      "_________________________________________________________________\n",
      "block3_conv2 (Conv2D)        (None, 56, 61, 256)       590080    \n",
      "_________________________________________________________________\n",
      "block3_conv3 (Conv2D)        (None, 56, 61, 256)       590080    \n",
      "_________________________________________________________________\n",
      "block3_pool (MaxPooling2D)   (None, 28, 30, 256)       0         \n",
      "_________________________________________________________________\n",
      "block4_conv1 (Conv2D)        (None, 28, 30, 512)       1180160   \n",
      "_________________________________________________________________\n",
      "block4_conv2 (Conv2D)        (None, 28, 30, 512)       2359808   \n",
      "_________________________________________________________________\n",
      "block4_conv3 (Conv2D)        (None, 28, 30, 512)       2359808   \n",
      "_________________________________________________________________\n",
      "block4_pool (MaxPooling2D)   (None, 14, 15, 512)       0         \n",
      "_________________________________________________________________\n",
      "block5_conv1 (Conv2D)        (None, 14, 15, 512)       2359808   \n",
      "_________________________________________________________________\n",
      "block5_conv2 (Conv2D)        (None, 14, 15, 512)       2359808   \n",
      "_________________________________________________________________\n",
      "block5_conv3 (Conv2D)        (None, 14, 15, 512)       2359808   \n",
      "_________________________________________________________________\n",
      "block5_pool (MaxPooling2D)   (None, 7, 7, 512)         0         \n",
      "_________________________________________________________________\n",
      "flatten_1 (Flatten)          (None, 25088)             0         \n",
      "_________________________________________________________________\n",
      "dense_1 (Dense)              (None, 256)               6422784   \n",
      "_________________________________________________________________\n",
      "dense_2 (Dense)              (None, 128)               32896     \n",
      "_________________________________________________________________\n",
      "dense_3 (Dense)              (None, 32)                4128      \n",
      "_________________________________________________________________\n",
      "dense_4 (Dense)              (None, 3)                 99        \n",
      "=================================================================\n",
      "Total params: 21,174,595\n",
      "Trainable params: 6,459,907\n",
      "Non-trainable params: 14,714,688\n",
      "_________________________________________________________________\n"
     ]
    }
   ],
   "source": [
    "# # Adding FClayer to VGG\n",
    "from keras.layers import Dense, Flatten\n",
    "from keras.models import Model\n",
    "\n",
    "head = FClayer(vggmodel)\n",
    "\n",
    "vggmodel = Model(inputs = vggmodel.input, outputs = head)\n",
    "\n",
    "vggmodel.summary()\n"
   ]
  },
  {
   "cell_type": "markdown",
   "metadata": {},
   "source": [
    "# ## Compiling model"
   ]
  },
  {
   "cell_type": "code",
   "execution_count": 6,
   "metadata": {},
   "outputs": [],
   "source": [
    "from keras.optimizers import RMSprop\n",
    "vggmodel.compile(loss = 'categorical_crossentropy',\n",
    "              optimizer = RMSprop(lr = 0.001),\n",
    "              metrics = ['accuracy'])"
   ]
  },
  {
   "cell_type": "code",
   "execution_count": 7,
   "metadata": {
    "scrolled": true
   },
   "outputs": [
    {
     "name": "stdout",
     "output_type": "stream",
     "text": [
      "Found 252 images belonging to 3 classes.\n",
      "Found 62 images belonging to 3 classes.\n",
      "Epoch 1/5\n",
      "8/8 [==============================] - 151s 19s/step - loss: 5.3244 - accuracy: 0.4921 - val_loss: 0.0016 - val_accuracy: 0.9839\n",
      "Epoch 2/5\n",
      "8/8 [==============================] - 125s 16s/step - loss: 0.0022 - accuracy: 1.0000 - val_loss: 0.0770 - val_accuracy: 0.9839\n",
      "Epoch 3/5\n",
      "8/8 [==============================] - 136s 17s/step - loss: 3.5802e-04 - accuracy: 1.0000 - val_loss: 7.7838e-05 - val_accuracy: 0.9839\n",
      "Epoch 4/5\n",
      "8/8 [==============================] - 151s 19s/step - loss: 1.8903e-04 - accuracy: 1.0000 - val_loss: 3.2829e-05 - val_accuracy: 0.9839\n",
      "Epoch 5/5\n",
      "8/8 [==============================] - 123s 15s/step - loss: 1.1132e-04 - accuracy: 1.0000 - val_loss: 1.8990e-05 - val_accuracy: 0.9839\n"
     ]
    }
   ],
   "source": [
    "# ## Augmenting Images and traing the model\n",
    "from keras_preprocessing.image import ImageDataGenerator\n",
    "train_datagen = ImageDataGenerator(\n",
    "        rescale=1./255,\n",
    "        shear_range=0.2,\n",
    "        zoom_range=0.2,\n",
    "        horizontal_flip=True)\n",
    "test_datagen = ImageDataGenerator(rescale=1./255)\n",
    "training_set = train_datagen.flow_from_directory(\n",
    "        '/Users/vikaskumar/Documents/mlops/mlopsPractice/FaceRecogVGGTransferLearning-master/transfer learning/data/data/train',\n",
    "        target_size=(224, 244),\n",
    "        class_mode='categorical')\n",
    "test_set = test_datagen.flow_from_directory(\n",
    "        '/Users/vikaskumar/Documents/mlops/mlopsPractice/FaceRecogVGGTransferLearning-master/transfer learning/data/data/test',\n",
    "        target_size=(224, 244),\n",
    "        class_mode='categorical')\n",
    "vggmodel.fit(\n",
    "        training_set,\n",
    "        epochs=5,\n",
    "        validation_data=test_set,\n",
    "        )\n",
    "\n",
    "vggmodel.save('vgg_face_recog.h5')"
   ]
  },
  {
   "cell_type": "code",
   "execution_count": null,
   "metadata": {},
   "outputs": [],
   "source": []
  }
 ],
 "metadata": {
  "kernelspec": {
   "display_name": "Python 3",
   "language": "python",
   "name": "python3"
  },
  "language_info": {
   "codemirror_mode": {
    "name": "ipython",
    "version": 3
   },
   "file_extension": ".py",
   "mimetype": "text/x-python",
   "name": "python",
   "nbconvert_exporter": "python",
   "pygments_lexer": "ipython3",
   "version": "3.8.2"
  }
 },
 "nbformat": 4,
 "nbformat_minor": 4
}
